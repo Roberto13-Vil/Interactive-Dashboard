{
 "cells": [
  {
   "cell_type": "code",
   "execution_count": 1,
   "id": "4ba2505d",
   "metadata": {},
   "outputs": [],
   "source": [
    "import dask.dataframe as dd"
   ]
  },
  {
   "cell_type": "code",
   "execution_count": 3,
   "id": "105d3a7d",
   "metadata": {},
   "outputs": [],
   "source": [
    "df = dd.read_parquet(\"../Data/cleaned_data\")\n",
    "df_sorted = df.sort_values(\"Fecha\", ascending=False)\n",
    "df_sampled = df_sorted.head(1_000_000, compute=True)\n",
    "df_sampled = df_sampled"
   ]
  },
  {
   "cell_type": "code",
   "execution_count": 6,
   "id": "fe85f258",
   "metadata": {},
   "outputs": [],
   "source": [
    "df_sampled.to_parquet(\"../Data/reduced_data.parquet\", engine=\"pyarrow\")"
   ]
  }
 ],
 "metadata": {
  "kernelspec": {
   "display_name": "interactive_dashboard",
   "language": "python",
   "name": "python3"
  },
  "language_info": {
   "codemirror_mode": {
    "name": "ipython",
    "version": 3
   },
   "file_extension": ".py",
   "mimetype": "text/x-python",
   "name": "python",
   "nbconvert_exporter": "python",
   "pygments_lexer": "ipython3",
   "version": "3.11.9"
  }
 },
 "nbformat": 4,
 "nbformat_minor": 5
}
